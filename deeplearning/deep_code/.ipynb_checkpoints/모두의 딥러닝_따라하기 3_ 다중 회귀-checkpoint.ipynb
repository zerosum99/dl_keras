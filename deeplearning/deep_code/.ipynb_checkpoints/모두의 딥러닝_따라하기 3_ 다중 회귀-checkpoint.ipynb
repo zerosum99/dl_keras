{
 "cells": [
  {
   "cell_type": "code",
   "execution_count": 1,
   "metadata": {},
   "outputs": [],
   "source": [
    "import tensorflow as tf"
   ]
  },
  {
   "cell_type": "code",
   "execution_count": 6,
   "metadata": {},
   "outputs": [],
   "source": [
    "import numpy as np"
   ]
  },
  {
   "cell_type": "code",
   "execution_count": 7,
   "metadata": {},
   "outputs": [],
   "source": [
    "ab = [3,76]"
   ]
  },
  {
   "cell_type": "code",
   "execution_count": 8,
   "metadata": {},
   "outputs": [],
   "source": [
    "l = [[2,81],[4,93],[6,91],[8,97]]"
   ]
  },
  {
   "cell_type": "code",
   "execution_count": 9,
   "metadata": {},
   "outputs": [],
   "source": [
    "data = np.array(l)"
   ]
  },
  {
   "cell_type": "code",
   "execution_count": 11,
   "metadata": {},
   "outputs": [],
   "source": [
    "x_data = data[:,0]"
   ]
  },
  {
   "cell_type": "code",
   "execution_count": 12,
   "metadata": {},
   "outputs": [
    {
     "data": {
      "text/plain": [
       "array([2, 4, 6, 8])"
      ]
     },
     "execution_count": 12,
     "metadata": {},
     "output_type": "execute_result"
    }
   ],
   "source": [
    "x_data"
   ]
  },
  {
   "cell_type": "code",
   "execution_count": 10,
   "metadata": {},
   "outputs": [],
   "source": [
    "y_data = data[:,1]"
   ]
  },
  {
   "cell_type": "code",
   "execution_count": 13,
   "metadata": {},
   "outputs": [
    {
     "data": {
      "text/plain": [
       "array([81, 93, 91, 97])"
      ]
     },
     "execution_count": 13,
     "metadata": {},
     "output_type": "execute_result"
    }
   ],
   "source": [
    "y_data"
   ]
  },
  {
   "cell_type": "code",
   "execution_count": 2,
   "metadata": {},
   "outputs": [
    {
     "name": "stdout",
     "output_type": "stream",
     "text": [
      "WARNING:tensorflow:From /Users/dahlmoon/anaconda/lib/python3.7/site-packages/tensorflow/python/framework/op_def_library.py:263: colocate_with (from tensorflow.python.framework.ops) is deprecated and will be removed in a future version.\n",
      "Instructions for updating:\n",
      "Colocations handled automatically by placer.\n"
     ]
    }
   ],
   "source": [
    "a = tf.Variable(tf.random_uniform([1], 0,10, dtype=tf.float64, seed=0))"
   ]
  },
  {
   "cell_type": "code",
   "execution_count": 3,
   "metadata": {},
   "outputs": [],
   "source": [
    "b = tf.Variable(tf.random_uniform([1], 0, 100, dtype=tf.float64, seed=0))"
   ]
  },
  {
   "cell_type": "code",
   "execution_count": null,
   "metadata": {},
   "outputs": [],
   "source": []
  },
  {
   "cell_type": "code",
   "execution_count": 14,
   "metadata": {},
   "outputs": [],
   "source": [
    "y = a * x_data + b"
   ]
  },
  {
   "cell_type": "code",
   "execution_count": null,
   "metadata": {},
   "outputs": [],
   "source": []
  },
  {
   "cell_type": "markdown",
   "metadata": {},
   "source": [
    "## RMSE"
   ]
  },
  {
   "cell_type": "code",
   "execution_count": 15,
   "metadata": {},
   "outputs": [],
   "source": [
    "rmse = tf.sqrt(tf.reduce_mean(tf.square(y - y_data)))"
   ]
  },
  {
   "cell_type": "code",
   "execution_count": null,
   "metadata": {},
   "outputs": [],
   "source": []
  },
  {
   "cell_type": "markdown",
   "metadata": {},
   "source": [
    "## 학습률"
   ]
  },
  {
   "cell_type": "code",
   "execution_count": 16,
   "metadata": {},
   "outputs": [],
   "source": [
    "learning_rate = 0.01"
   ]
  },
  {
   "cell_type": "markdown",
   "metadata": {},
   "source": [
    "## 최소값 찾기"
   ]
  },
  {
   "cell_type": "code",
   "execution_count": 17,
   "metadata": {},
   "outputs": [],
   "source": [
    "gradient_decent = tf.train.GradientDescentOptimizer(learning_rate).minimize(rmse)"
   ]
  },
  {
   "cell_type": "markdown",
   "metadata": {},
   "source": [
    "## 학습 "
   ]
  },
  {
   "cell_type": "code",
   "execution_count": 19,
   "metadata": {},
   "outputs": [
    {
     "name": "stdout",
     "output_type": "stream",
     "text": [
      " Epoch : 0,  RMSE = 32.9672, 기울기 a = 8.0145, 절편 b = 80.6810 \n",
      " Epoch : 100,  RMSE = 4.2414, 기울기 a = 2.7341, 절편 b = 79.7873 \n",
      " Epoch : 200,  RMSE = 2.8935, 기울기 a = 2.1897, 절편 b = 79.6581 \n",
      " Epoch : 300,  RMSE = 2.8922, 기울기 a = 2.1957, 절편 b = 79.6222 \n",
      " Epoch : 400,  RMSE = 2.8910, 기울기 a = 2.2014, 절편 b = 79.5883 \n",
      " Epoch : 500,  RMSE = 2.8899, 기울기 a = 2.2068, 절편 b = 79.5562 \n",
      " Epoch : 600,  RMSE = 2.8890, 기울기 a = 2.2119, 절편 b = 79.5258 \n",
      " Epoch : 700,  RMSE = 2.8881, 기울기 a = 2.2167, 절편 b = 79.4971 \n",
      " Epoch : 800,  RMSE = 2.8874, 기울기 a = 2.2212, 절편 b = 79.4700 \n",
      " Epoch : 900,  RMSE = 2.8867, 기울기 a = 2.2255, 절편 b = 79.4443 \n",
      " Epoch : 1000,  RMSE = 2.8861, 기울기 a = 2.2296, 절편 b = 79.4200 \n",
      " Epoch : 1100,  RMSE = 2.8855, 기울기 a = 2.2335, 절편 b = 79.3971 \n",
      " Epoch : 1200,  RMSE = 2.8850, 기울기 a = 2.2371, 절편 b = 79.3754 \n",
      " Epoch : 1300,  RMSE = 2.8846, 기울기 a = 2.2405, 절편 b = 79.3548 \n",
      " Epoch : 1400,  RMSE = 2.8842, 기울기 a = 2.2438, 절편 b = 79.3354 \n",
      " Epoch : 1500,  RMSE = 2.8839, 기울기 a = 2.2469, 절편 b = 79.3171 \n",
      " Epoch : 1600,  RMSE = 2.8836, 기울기 a = 2.2498, 절편 b = 79.2998 \n",
      " Epoch : 1700,  RMSE = 2.8833, 기울기 a = 2.2525, 절편 b = 79.2834 \n",
      " Epoch : 1800,  RMSE = 2.8830, 기울기 a = 2.2551, 절편 b = 79.2679 \n",
      " Epoch : 1900,  RMSE = 2.8828, 기울기 a = 2.2576, 절편 b = 79.2532 \n",
      " Epoch : 2000,  RMSE = 2.8826, 기울기 a = 2.2599, 절편 b = 79.2394 \n",
      " Epoch : 2100,  RMSE = 2.8825, 기울기 a = 2.2621, 절편 b = 79.2263 \n",
      " Epoch : 2200,  RMSE = 2.8823, 기울기 a = 2.2642, 절편 b = 79.2139 \n",
      " Epoch : 2300,  RMSE = 2.8822, 기울기 a = 2.2661, 절편 b = 79.2022 \n",
      " Epoch : 2400,  RMSE = 2.8820, 기울기 a = 2.2680, 절편 b = 79.1911 \n",
      " Epoch : 2500,  RMSE = 2.8819, 기울기 a = 2.2697, 절편 b = 79.1807 \n",
      " Epoch : 2600,  RMSE = 2.8818, 기울기 a = 2.2714, 절편 b = 79.1708 \n",
      " Epoch : 2700,  RMSE = 2.8817, 기울기 a = 2.2729, 절편 b = 79.1614 \n",
      " Epoch : 2800,  RMSE = 2.8816, 기울기 a = 2.2744, 절편 b = 79.1526 \n",
      " Epoch : 2900,  RMSE = 2.8816, 기울기 a = 2.2758, 절편 b = 79.1442 \n",
      " Epoch : 3000,  RMSE = 2.8815, 기울기 a = 2.2772, 절편 b = 79.1363 \n"
     ]
    }
   ],
   "source": [
    "with tf.Session() as sess :\n",
    "    sess.run(tf.global_variables_initializer())\n",
    "    \n",
    "    for step in range(3001) :\n",
    "        sess.run(gradient_decent)\n",
    "        if step % 100 == 0 :\n",
    "            print(\" Epoch : %.f,  RMSE = %.04f, 기울기 a = %.4f, 절편 b = %.4f \" % (step, sess.run(rmse), sess.run(a), sess.run(b)))"
   ]
  },
  {
   "cell_type": "code",
   "execution_count": null,
   "metadata": {},
   "outputs": [],
   "source": []
  }
 ],
 "metadata": {
  "kernelspec": {
   "display_name": "Python 3",
   "language": "python",
   "name": "python3"
  },
  "language_info": {
   "codemirror_mode": {
    "name": "ipython",
    "version": 3
   },
   "file_extension": ".py",
   "mimetype": "text/x-python",
   "name": "python",
   "nbconvert_exporter": "python",
   "pygments_lexer": "ipython3",
   "version": "3.7.3"
  }
 },
 "nbformat": 4,
 "nbformat_minor": 2
}
