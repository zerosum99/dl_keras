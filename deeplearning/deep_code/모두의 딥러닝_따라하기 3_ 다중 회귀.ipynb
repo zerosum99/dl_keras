{
 "cells": [
  {
   "cell_type": "code",
   "execution_count": 3,
   "metadata": {},
   "outputs": [],
   "source": [
    "import tensorflow as tf"
   ]
  },
  {
   "cell_type": "code",
   "execution_count": 4,
   "metadata": {},
   "outputs": [],
   "source": [
    "import numpy as np"
   ]
  },
  {
   "cell_type": "code",
   "execution_count": 5,
   "metadata": {},
   "outputs": [],
   "source": [
    "l = [[2,0,81],[4,4,93],[6,2,91],[8,3,97]]"
   ]
  },
  {
   "cell_type": "code",
   "execution_count": 6,
   "metadata": {},
   "outputs": [],
   "source": [
    "data = np.array(l)"
   ]
  },
  {
   "cell_type": "code",
   "execution_count": 11,
   "metadata": {},
   "outputs": [],
   "source": [
    "x_data_1 = data[:,0]"
   ]
  },
  {
   "cell_type": "code",
   "execution_count": 12,
   "metadata": {},
   "outputs": [
    {
     "data": {
      "text/plain": [
       "array([2, 4, 6, 8])"
      ]
     },
     "execution_count": 12,
     "metadata": {},
     "output_type": "execute_result"
    }
   ],
   "source": [
    "x_data_1"
   ]
  },
  {
   "cell_type": "code",
   "execution_count": 13,
   "metadata": {},
   "outputs": [],
   "source": [
    "x_data_2 = data[:,1]"
   ]
  },
  {
   "cell_type": "code",
   "execution_count": 14,
   "metadata": {},
   "outputs": [
    {
     "data": {
      "text/plain": [
       "array([0, 4, 2, 3])"
      ]
     },
     "execution_count": 14,
     "metadata": {},
     "output_type": "execute_result"
    }
   ],
   "source": [
    "x_data_2"
   ]
  },
  {
   "cell_type": "code",
   "execution_count": 15,
   "metadata": {},
   "outputs": [],
   "source": [
    "y_data = data[:,2]"
   ]
  },
  {
   "cell_type": "code",
   "execution_count": 16,
   "metadata": {},
   "outputs": [
    {
     "data": {
      "text/plain": [
       "array([81, 93, 91, 97])"
      ]
     },
     "execution_count": 16,
     "metadata": {},
     "output_type": "execute_result"
    }
   ],
   "source": [
    "y_data"
   ]
  },
  {
   "cell_type": "code",
   "execution_count": 19,
   "metadata": {},
   "outputs": [],
   "source": [
    "a1 = tf.Variable(tf.random_uniform([1], 0,10, dtype=tf.float64, seed=0))"
   ]
  },
  {
   "cell_type": "code",
   "execution_count": 20,
   "metadata": {},
   "outputs": [],
   "source": [
    "a2 = tf.Variable(tf.random_uniform([1], 0,10, dtype=tf.float64, seed=0))"
   ]
  },
  {
   "cell_type": "code",
   "execution_count": 21,
   "metadata": {},
   "outputs": [],
   "source": [
    "b = tf.Variable(tf.random_uniform([1], 0, 100, dtype=tf.float64, seed=0))"
   ]
  },
  {
   "cell_type": "code",
   "execution_count": null,
   "metadata": {},
   "outputs": [],
   "source": []
  },
  {
   "cell_type": "code",
   "execution_count": 23,
   "metadata": {},
   "outputs": [],
   "source": [
    "y = a1 * x_data_1+ a2*x_data_2+ b"
   ]
  },
  {
   "cell_type": "code",
   "execution_count": null,
   "metadata": {},
   "outputs": [],
   "source": []
  },
  {
   "cell_type": "markdown",
   "metadata": {},
   "source": [
    "## RMSE"
   ]
  },
  {
   "cell_type": "code",
   "execution_count": 24,
   "metadata": {},
   "outputs": [],
   "source": [
    "rmse = tf.sqrt(tf.reduce_mean(tf.square(y - y_data)))"
   ]
  },
  {
   "cell_type": "code",
   "execution_count": null,
   "metadata": {},
   "outputs": [],
   "source": []
  },
  {
   "cell_type": "markdown",
   "metadata": {},
   "source": [
    "## 학습률"
   ]
  },
  {
   "cell_type": "code",
   "execution_count": 25,
   "metadata": {},
   "outputs": [],
   "source": [
    "learning_rate = 0.01"
   ]
  },
  {
   "cell_type": "markdown",
   "metadata": {},
   "source": [
    "## 최소값 찾기"
   ]
  },
  {
   "cell_type": "code",
   "execution_count": 26,
   "metadata": {},
   "outputs": [],
   "source": [
    "gradient_decent = tf.train.GradientDescentOptimizer(learning_rate).minimize(rmse)"
   ]
  },
  {
   "cell_type": "markdown",
   "metadata": {},
   "source": [
    "## 학습 "
   ]
  },
  {
   "cell_type": "code",
   "execution_count": 28,
   "metadata": {},
   "outputs": [
    {
     "name": "stdout",
     "output_type": "stream",
     "text": [
      " Epoch : 0,  RMSE = 52.4800, 기울기 a1 = 8.0148, a2= 8.0437 절편 b = 80.6809 \n",
      " Epoch : 100,  RMSE = 16.1029, 기울기 a1 = 2.6323, a2= 5.4828 절편 b = 79.7601 \n",
      " Epoch : 200,  RMSE = 1.9789, 기울기 a1 = 0.6250, a2= 3.6776 절편 b = 79.3031 \n",
      " Epoch : 300,  RMSE = 0.8996, 기울기 a1 = 1.0697, a2= 2.7527 절편 b = 79.1536 \n",
      " Epoch : 400,  RMSE = 0.4921, 기울기 a1 = 1.3268, a2= 2.2932 절편 b = 78.8650 \n",
      " Epoch : 500,  RMSE = 0.3886, 기울기 a1 = 1.3969, a2= 2.2530 절편 b = 78.5570 \n",
      " Epoch : 600,  RMSE = 0.3219, 기울기 a1 = 1.4351, a2= 2.2634 절편 b = 78.3025 \n",
      " Epoch : 700,  RMSE = 0.2875, 기울기 a1 = 1.4617, a2= 2.2725 절편 b = 78.1203 \n",
      " Epoch : 800,  RMSE = 0.2739, 기울기 a1 = 1.4783, a2= 2.2782 절편 b = 78.0061 \n",
      " Epoch : 900,  RMSE = 0.2693, 기울기 a1 = 1.4879, a2= 2.2815 절편 b = 77.9400 \n",
      " Epoch : 1000,  RMSE = 0.2679, 기울기 a1 = 1.4933, a2= 2.2834 절편 b = 77.9030 \n",
      " Epoch : 1100,  RMSE = 0.2675, 기울기 a1 = 1.4963, a2= 2.2844 절편 b = 77.8824 \n",
      " Epoch : 1200,  RMSE = 0.2673, 기울기 a1 = 1.4980, a2= 2.2850 절편 b = 77.8711 \n",
      " Epoch : 1300,  RMSE = 0.2673, 기울기 a1 = 1.4989, a2= 2.2853 절편 b = 77.8648 \n",
      " Epoch : 1400,  RMSE = 0.2673, 기울기 a1 = 1.4994, a2= 2.2855 절편 b = 77.8614 \n",
      " Epoch : 1500,  RMSE = 0.2673, 기울기 a1 = 1.4997, a2= 2.2856 절편 b = 77.8595 \n",
      " Epoch : 1600,  RMSE = 0.2673, 기울기 a1 = 1.4998, a2= 2.2856 절편 b = 77.8584 \n",
      " Epoch : 1700,  RMSE = 0.2673, 기울기 a1 = 1.4999, a2= 2.2857 절편 b = 77.8579 \n",
      " Epoch : 1800,  RMSE = 0.2673, 기울기 a1 = 1.4999, a2= 2.2857 절편 b = 77.8575 \n",
      " Epoch : 1900,  RMSE = 0.2673, 기울기 a1 = 1.5000, a2= 2.2857 절편 b = 77.8574 \n",
      " Epoch : 2000,  RMSE = 0.2673, 기울기 a1 = 1.5000, a2= 2.2857 절편 b = 77.8573 \n",
      " Epoch : 2100,  RMSE = 0.2673, 기울기 a1 = 1.5000, a2= 2.2857 절편 b = 77.8572 \n",
      " Epoch : 2200,  RMSE = 0.2673, 기울기 a1 = 1.5000, a2= 2.2857 절편 b = 77.8572 \n",
      " Epoch : 2300,  RMSE = 0.2673, 기울기 a1 = 1.5000, a2= 2.2857 절편 b = 77.8572 \n",
      " Epoch : 2400,  RMSE = 0.2673, 기울기 a1 = 1.5000, a2= 2.2857 절편 b = 77.8572 \n",
      " Epoch : 2500,  RMSE = 0.2673, 기울기 a1 = 1.5000, a2= 2.2857 절편 b = 77.8571 \n",
      " Epoch : 2600,  RMSE = 0.2673, 기울기 a1 = 1.5000, a2= 2.2857 절편 b = 77.8571 \n",
      " Epoch : 2700,  RMSE = 0.2673, 기울기 a1 = 1.5000, a2= 2.2857 절편 b = 77.8571 \n",
      " Epoch : 2800,  RMSE = 0.2673, 기울기 a1 = 1.5000, a2= 2.2857 절편 b = 77.8571 \n",
      " Epoch : 2900,  RMSE = 0.2673, 기울기 a1 = 1.5000, a2= 2.2857 절편 b = 77.8571 \n",
      " Epoch : 3000,  RMSE = 0.2673, 기울기 a1 = 1.5000, a2= 2.2857 절편 b = 77.8571 \n"
     ]
    }
   ],
   "source": [
    "with tf.Session() as sess :\n",
    "    sess.run(tf.global_variables_initializer())\n",
    "    \n",
    "    for step in range(3001) :\n",
    "        sess.run(gradient_decent)\n",
    "        if step % 100 == 0 :\n",
    "            print(\" Epoch : %.f,  RMSE = %.04f, 기울기 a1 = %.4f, a2= %.4f 절편 b = %.4f \" % (step, sess.run(rmse), sess.run(a1), sess.run(a2), sess.run(b)))"
   ]
  },
  {
   "cell_type": "code",
   "execution_count": 33,
   "metadata": {},
   "outputs": [],
   "source": [
    "%matplotlib inline"
   ]
  },
  {
   "cell_type": "code",
   "execution_count": 34,
   "metadata": {},
   "outputs": [
    {
     "data": {
      "image/png": "[encoded data removed]",
      "text/plain": [
       "<Figure size 432x288 with 1 Axes>"
      ]
     },
     "metadata": {
      "needs_background": "light"
     },
     "output_type": "display_data"
    }
   ],
   "source": [
    "# %load ../deep_class/05_3D_graph.py\n",
    "import numpy as np\n",
    "import statsmodels.api as statm\n",
    "import statsmodels.formula.api as statfa\n",
    "import pandas as pd\n",
    "import matplotlib.pyplot as plt\n",
    "from mpl_toolkits.mplot3d import Axes3D\n",
    "\n",
    "data = [[2, 0, 81], [4, 4, 93], [6, 2, 91], [8, 3, 97]]\n",
    "X = [i[0:2] for i in data]\n",
    "Y = [i[2] for i in data]\n",
    "\n",
    "X_1=statm.add_constant(X)\n",
    "results=statm.OLS(Y,X_1).fit()\n",
    "\n",
    "hour_class=pd.DataFrame(X,columns=['study_hours','private_class'])\n",
    "hour_class['Score']=pd.Series(Y)\n",
    "\n",
    "model = statfa.ols(formula='Score ~ study_hours + private_class', data=hour_class)\n",
    "\n",
    "results_formula = model.fit()\n",
    "\n",
    "a, b = np.meshgrid(np.linspace(hour_class.study_hours.min(),hour_class.study_hours.max(),100),\n",
    "                   np.linspace(hour_class.private_class.min(),hour_class.private_class.max(),100))\n",
    "\n",
    "X_ax = pd.DataFrame({'study_hours': a.ravel(), 'private_class': b.ravel()})\n",
    "fittedY=results_formula.predict(exog=X_ax)\n",
    "fig = plt.figure()\n",
    "\n",
    "graph = fig.add_subplot(111, projection='3d')\n",
    "\n",
    "graph.scatter(hour_class['study_hours'],hour_class['private_class'],hour_class['Score'],\n",
    "              c='blue',marker='o', alpha=1)\n",
    "graph.plot_surface(a,b,fittedY.values.reshape(a.shape),\n",
    "                   rstride=1, cstride=1, color='none', alpha=0.4)\n",
    "graph.set_xlabel('study_hours')\n",
    "graph.set_ylabel('private_class')\n",
    "graph.set_zlabel('Score')\n",
    "\n",
    "plt.show()\n",
    "\n"
   ]
  },
  {
   "cell_type": "code",
   "execution_count": null,
   "metadata": {},
   "outputs": [],
   "source": []
  }
 ],
 "metadata": {
  "kernelspec": {
   "display_name": "Python 3",
   "language": "python",
   "name": "python3"
  },
  "language_info": {
   "codemirror_mode": {
    "name": "ipython",
    "version": 3
   },
   "file_extension": ".py",
   "mimetype": "text/x-python",
   "name": "python",
   "nbconvert_exporter": "python",
   "pygments_lexer": "ipython3",
   "version": "3.7.3"
  }
 },
 "nbformat": 4,
 "nbformat_minor": 2
}
